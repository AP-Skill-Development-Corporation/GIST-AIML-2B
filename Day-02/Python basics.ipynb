{
 "cells": [
  {
   "cell_type": "markdown",
   "id": "3828ba14-b1ca-4ee2-bd8e-9a9e7cff5368",
   "metadata": {},
   "source": [
    "# Function:\n",
    "    - Block of statements to perform a specific task\n",
    "    Syntax:\n",
    "        def function_name(argumnets):\n",
    "            //statements\n",
    "            return return_value"
   ]
  },
  {
   "cell_type": "markdown",
   "id": "f6e80c39-8337-4ac3-8844-42685c065ea7",
   "metadata": {},
   "source": [
    "# Function Argument types:\n",
    "    - Default\n",
    "    - Required or Positional\n",
    "    - Keyword\n",
    "    - Variable-Length\n",
    "        - Orbitary Keyword\n",
    "        - Orbitary Positional"
   ]
  },
  {
   "cell_type": "markdown",
   "id": "24d1cbf8-91a3-47e9-84cc-7b768bb890ef",
   "metadata": {},
   "source": [
    "## Default Argument:"
   ]
  },
  {
   "cell_type": "code",
   "execution_count": 3,
   "id": "b4ecc9e7-c1a5-49fb-97a8-b6c0ece0a023",
   "metadata": {},
   "outputs": [],
   "source": [
    "def student(s,r,b = \"AI/ML\"):\n",
    "    print(f\"Roll Number: {r}\")\n",
    "    print(f\"Student Name: {s}\")\n",
    "    print(f\"Branch: {b}\")\n",
    "    return "
   ]
  },
  {
   "cell_type": "code",
   "execution_count": 4,
   "id": "ad32b94d-1a55-4767-818b-488d5b845fb2",
   "metadata": {},
   "outputs": [
    {
     "name": "stdin",
     "output_type": "stream",
     "text": [
      "Enter Student Name:  Rajesh\n",
      "Enter Roll Number:  156\n"
     ]
    },
    {
     "name": "stdout",
     "output_type": "stream",
     "text": [
      "Roll Number: 156\n",
      "Student Name: Rajesh\n",
      "Branch: AI/ML\n"
     ]
    }
   ],
   "source": [
    "sname = input(\"Enter Student Name: \")\n",
    "sroll = input(\"Enter Roll Number: \")\n",
    "student(sname,sroll)"
   ]
  },
  {
   "cell_type": "code",
   "execution_count": 5,
   "id": "3291a524-e455-438e-adfd-0dd6450c5c60",
   "metadata": {},
   "outputs": [
    {
     "name": "stdin",
     "output_type": "stream",
     "text": [
      "Enter Student Name:  kishore\n",
      "Enter Roll Number:  169\n"
     ]
    },
    {
     "name": "stdout",
     "output_type": "stream",
     "text": [
      "Roll Number: kishore\n",
      "Student Name: 169\n",
      "Branch: AI/ML\n"
     ]
    }
   ],
   "source": [
    "def student(r,s,b = \"AI/ML\"):\n",
    "    print(f\"Roll Number: {r}\")\n",
    "    print(f\"Student Name: {s}\")\n",
    "    print(f\"Branch: {b}\")\n",
    "    return \n",
    "\n",
    "sname = input(\"Enter Student Name: \")\n",
    "sroll = input(\"Enter Roll Number: \")\n",
    "student(sname,sroll)"
   ]
  },
  {
   "cell_type": "code",
   "execution_count": 6,
   "id": "9276e8df-dce1-4888-b073-b3a7441f73eb",
   "metadata": {},
   "outputs": [
    {
     "ename": "SyntaxError",
     "evalue": "non-default argument follows default argument (549755348.py, line 1)",
     "output_type": "error",
     "traceback": [
      "\u001b[1;36m  Cell \u001b[1;32mIn[6], line 1\u001b[1;36m\u001b[0m\n\u001b[1;33m    def student(s,b = \"AI/ML\",r):\u001b[0m\n\u001b[1;37m                               ^\u001b[0m\n\u001b[1;31mSyntaxError\u001b[0m\u001b[1;31m:\u001b[0m non-default argument follows default argument\n"
     ]
    }
   ],
   "source": [
    "def student(s,b = \"AI/ML\",r):\n",
    "    print(f\"Roll Number: {r}\")\n",
    "    print(f\"Student Name: {s}\")\n",
    "    print(f\"Branch: {b}\")\n",
    "    return \n",
    "\n",
    "sname = input(\"Enter Student Name: \")\n",
    "sroll = input(\"Enter Roll Number: \")\n",
    "student(sname,sroll)"
   ]
  },
  {
   "cell_type": "code",
   "execution_count": 7,
   "id": "865895e8-d65b-4949-b35b-4dd938be84fa",
   "metadata": {},
   "outputs": [
    {
     "name": "stdin",
     "output_type": "stream",
     "text": [
      "Enter Student Name:  rajesh\n"
     ]
    },
    {
     "name": "stdout",
     "output_type": "stream",
     "text": [
      "Roll Number: 235\n",
      "Student Name: rajesh\n",
      "Branch: AI/ML\n"
     ]
    }
   ],
   "source": [
    "def student(s,r=235,b = \"AI/ML\"):\n",
    "    print(f\"Roll Number: {r}\")\n",
    "    print(f\"Student Name: {s}\")\n",
    "    print(f\"Branch: {b}\")\n",
    "    return \n",
    "\n",
    "sname = input(\"Enter Student Name: \")\n",
    "# sroll = input(\"Enter Roll Number: \")\n",
    "student(sname)"
   ]
  },
  {
   "cell_type": "code",
   "execution_count": 9,
   "id": "4f9a5b84-ede1-4c9a-8cca-1e5021b63a62",
   "metadata": {},
   "outputs": [
    {
     "name": "stdout",
     "output_type": "stream",
     "text": [
      "Roll Number: 235\n",
      "Student Name: ram\n",
      "Branch: AI/ML\n"
     ]
    }
   ],
   "source": [
    "def student(s=\"ram\",r=235,b = \"AI/ML\"):\n",
    "    print(f\"Roll Number: {r}\")\n",
    "    print(f\"Student Name: {s}\")\n",
    "    print(f\"Branch: {b}\")\n",
    "    return \n",
    "\n",
    "# sname = input(\"Enter Student Name: \")\n",
    "# sroll = input(\"Enter Roll Number: \")\n",
    "student()"
   ]
  },
  {
   "cell_type": "markdown",
   "id": "6c15b8da-fd95-421c-9908-8e10ae080ca0",
   "metadata": {},
   "source": [
    "## Required Argument"
   ]
  },
  {
   "cell_type": "code",
   "execution_count": 1,
   "id": "0e444dea-4bad-4ab6-a5c1-70d8f46918b6",
   "metadata": {},
   "outputs": [
    {
     "name": "stdin",
     "output_type": "stream",
     "text": [
      "enter employee id:  222u1a3380\n",
      "enter employee name:  charan\n",
      "enter employee:  100000\n"
     ]
    },
    {
     "ename": "TypeError",
     "evalue": "employee() missing 1 required positional argument: 'age'",
     "output_type": "error",
     "traceback": [
      "\u001b[1;31m---------------------------------------------------------------------------\u001b[0m",
      "\u001b[1;31mTypeError\u001b[0m                                 Traceback (most recent call last)",
      "Cell \u001b[1;32mIn[1], line 7\u001b[0m\n\u001b[0;32m      5\u001b[0m ename\u001b[38;5;241m=\u001b[39m\u001b[38;5;28minput\u001b[39m(\u001b[38;5;124m'\u001b[39m\u001b[38;5;124menter employee name: \u001b[39m\u001b[38;5;124m'\u001b[39m)\n\u001b[0;32m      6\u001b[0m esalary\u001b[38;5;241m=\u001b[39m\u001b[38;5;28mint\u001b[39m(\u001b[38;5;28minput\u001b[39m(\u001b[38;5;124m'\u001b[39m\u001b[38;5;124menter employee: \u001b[39m\u001b[38;5;124m'\u001b[39m))\n\u001b[1;32m----> 7\u001b[0m \u001b[43memployee\u001b[49m\u001b[43m(\u001b[49m\u001b[43meid\u001b[49m\u001b[43m,\u001b[49m\u001b[43mename\u001b[49m\u001b[43m,\u001b[49m\u001b[43mesalary\u001b[49m\u001b[43m)\u001b[49m\n",
      "\u001b[1;31mTypeError\u001b[0m: employee() missing 1 required positional argument: 'age'"
     ]
    }
   ],
   "source": [
    "def employee(id,name,salary,age):\n",
    "    return\n",
    "\n",
    "eid=input('enter employee id: ')\n",
    "ename=input('enter employee name: ')\n",
    "esalary=int(input('enter employee: '))\n",
    "employee(eid,ename,esalary)"
   ]
  },
  {
   "cell_type": "code",
   "execution_count": 3,
   "id": "fec9d877-becf-42b6-86b9-fb33d070810c",
   "metadata": {},
   "outputs": [
    {
     "name": "stdin",
     "output_type": "stream",
     "text": [
      "enter employee id:  222u1a3380\n",
      "enter employee name:  charan\n",
      "enter employee salary:  1000000\n"
     ]
    },
    {
     "name": "stdout",
     "output_type": "stream",
     "text": [
      "employee id: 222u1a3380\n",
      "employee name: charan\n",
      "employee salary: 1000000\n",
      "employee age: 35\n"
     ]
    }
   ],
   "source": [
    "def employee(id,name,salary,age=35):\n",
    "    print(f'employee id: {id}')\n",
    "    print(f'employee name: {name}')\n",
    "    print(f'employee salary: {salary}')\n",
    "    print(f'employee age: {age}')\n",
    "    return\n",
    "\n",
    "eid=input('enter employee id: ')\n",
    "ename=input('enter employee name: ')\n",
    "esalary=int(input('enter employee salary: '))\n",
    "employee(eid,ename,esalary)"
   ]
  },
  {
   "cell_type": "code",
   "execution_count": 6,
   "id": "9be77575-fb72-4f53-86db-171d15d4e26b",
   "metadata": {},
   "outputs": [
    {
     "name": "stdin",
     "output_type": "stream",
     "text": [
      "enter employee id:  222\n",
      "enter employee name:  sai\n"
     ]
    },
    {
     "name": "stdout",
     "output_type": "stream",
     "text": [
      "employee id: 222\n",
      "employee name: sai\n",
      "employee salary: 10000\n",
      "employee age: 25\n"
     ]
    }
   ],
   "source": [
    "def employee(id,name,salary=10000,age=25):\n",
    "    print(f'employee id: {id}')\n",
    "    print(f'employee name: {name}')\n",
    "    print(f'employee salary: {salary}')\n",
    "    print(f'employee age: {age}')\n",
    "    return\n",
    "\n",
    "eid=input('enter employee id: ')\n",
    "ename=input('enter employee name: ')\n",
    "# esalary=int(input('enter employee salary: '))\n",
    "employee(eid,ename)"
   ]
  },
  {
   "cell_type": "markdown",
   "id": "a0ec20d7-cb41-4436-ac5c-b16b421b6dd9",
   "metadata": {},
   "source": [
    "## Keyword Argument"
   ]
  },
  {
   "cell_type": "code",
   "execution_count": 11,
   "id": "11e7fea5-83d4-44e7-949c-0bb0d6a3dd88",
   "metadata": {},
   "outputs": [
    {
     "name": "stdin",
     "output_type": "stream",
     "text": [
      "enter student id:  2222\n",
      "enter student name:  fahamid\n",
      "enter student marks:  40\n"
     ]
    },
    {
     "name": "stdout",
     "output_type": "stream",
     "text": [
      "student id: 2222\n",
      "student name:fahamid\n",
      "student marks:40\n"
     ]
    }
   ],
   "source": [
    "def student(s_id,sname,smarks):\n",
    "    print(f\"student id: {s_id}\")\n",
    "    print(f\"student name:{sname}\")\n",
    "    print(f\"student marks:{smarks}\")\n",
    "    return\n",
    "\n",
    "a=input(\"enter student id: \")\n",
    "b=input(\"enter student name: \")\n",
    "c=input(\"enter student marks: \")\n",
    "student(s_id=a,sname=b,smarks=c)"
   ]
  },
  {
   "cell_type": "code",
   "execution_count": 12,
   "id": "a797a935-4ea1-4fc6-a6ea-961a9d9f35f2",
   "metadata": {},
   "outputs": [
    {
     "name": "stdin",
     "output_type": "stream",
     "text": [
      "enter student id:  222\n",
      "enter student name:  fahamid\n",
      "enter student marks:  49\n"
     ]
    },
    {
     "name": "stdout",
     "output_type": "stream",
     "text": [
      "student id: 222\n",
      "student name:fahamid\n",
      "student marks:49\n"
     ]
    }
   ],
   "source": [
    "def student(sname,s_id,smarks):\n",
    "    print(f\"student id: {s_id}\")\n",
    "    print(f\"student name:{sname}\")\n",
    "    print(f\"student marks:{smarks}\")\n",
    "    return\n",
    "\n",
    "a=input(\"enter student id: \")\n",
    "b=input(\"enter student name: \")\n",
    "c=input(\"enter student marks: \")\n",
    "student(s_id=a,sname=b,smarks=c)"
   ]
  },
  {
   "cell_type": "code",
   "execution_count": 13,
   "id": "0578369d-e07f-42d8-b6f2-cb32f95dea73",
   "metadata": {},
   "outputs": [
    {
     "name": "stdin",
     "output_type": "stream",
     "text": [
      "enter student id:  222\n",
      "enter student name:  fahamid\n",
      "enter student marks:  47\n"
     ]
    },
    {
     "ename": "TypeError",
     "evalue": "student() missing 1 required positional argument: 'sbranch'",
     "output_type": "error",
     "traceback": [
      "\u001b[1;31m---------------------------------------------------------------------------\u001b[0m",
      "\u001b[1;31mTypeError\u001b[0m                                 Traceback (most recent call last)",
      "Cell \u001b[1;32mIn[13], line 10\u001b[0m\n\u001b[0;32m      8\u001b[0m b\u001b[38;5;241m=\u001b[39m\u001b[38;5;28minput\u001b[39m(\u001b[38;5;124m\"\u001b[39m\u001b[38;5;124menter student name: \u001b[39m\u001b[38;5;124m\"\u001b[39m)\n\u001b[0;32m      9\u001b[0m c\u001b[38;5;241m=\u001b[39m\u001b[38;5;28minput\u001b[39m(\u001b[38;5;124m\"\u001b[39m\u001b[38;5;124menter student marks: \u001b[39m\u001b[38;5;124m\"\u001b[39m)\n\u001b[1;32m---> 10\u001b[0m \u001b[43mstudent\u001b[49m\u001b[43m(\u001b[49m\u001b[43ms_id\u001b[49m\u001b[38;5;241;43m=\u001b[39;49m\u001b[43ma\u001b[49m\u001b[43m,\u001b[49m\u001b[43msname\u001b[49m\u001b[38;5;241;43m=\u001b[39;49m\u001b[43mb\u001b[49m\u001b[43m,\u001b[49m\u001b[43msmarks\u001b[49m\u001b[38;5;241;43m=\u001b[39;49m\u001b[43mc\u001b[49m\u001b[43m)\u001b[49m\n",
      "\u001b[1;31mTypeError\u001b[0m: student() missing 1 required positional argument: 'sbranch'"
     ]
    }
   ],
   "source": [
    "def student(s_id,sname,smarks,sbranch):\n",
    "    print(f\"student id: {s_id}\")\n",
    "    print(f\"student name:{sname}\")\n",
    "    print(f\"student marks:{smarks}\")\n",
    "    return\n",
    "\n",
    "a=input(\"enter student id: \")\n",
    "b=input(\"enter student name: \")\n",
    "c=input(\"enter student marks: \")\n",
    "student(s_id=a,sname=b,smarks=c)"
   ]
  },
  {
   "cell_type": "code",
   "execution_count": 14,
   "id": "6d8ba1b9-2fee-4c41-91ca-743084b0c007",
   "metadata": {},
   "outputs": [
    {
     "name": "stdin",
     "output_type": "stream",
     "text": [
      "enter student id:  22\n",
      "enter student name:  fahamid\n",
      "enter student marks:  7854\n"
     ]
    },
    {
     "ename": "TypeError",
     "evalue": "student() missing 1 required positional argument: 'sbranch'",
     "output_type": "error",
     "traceback": [
      "\u001b[1;31m---------------------------------------------------------------------------\u001b[0m",
      "\u001b[1;31mTypeError\u001b[0m                                 Traceback (most recent call last)",
      "Cell \u001b[1;32mIn[14], line 10\u001b[0m\n\u001b[0;32m      8\u001b[0m b\u001b[38;5;241m=\u001b[39m\u001b[38;5;28minput\u001b[39m(\u001b[38;5;124m\"\u001b[39m\u001b[38;5;124menter student name: \u001b[39m\u001b[38;5;124m\"\u001b[39m)\n\u001b[0;32m      9\u001b[0m c\u001b[38;5;241m=\u001b[39m\u001b[38;5;28minput\u001b[39m(\u001b[38;5;124m\"\u001b[39m\u001b[38;5;124menter student marks: \u001b[39m\u001b[38;5;124m\"\u001b[39m)\n\u001b[1;32m---> 10\u001b[0m \u001b[43mstudent\u001b[49m\u001b[43m(\u001b[49m\u001b[43ms_id\u001b[49m\u001b[38;5;241;43m=\u001b[39;49m\u001b[43ma\u001b[49m\u001b[43m,\u001b[49m\u001b[43msname\u001b[49m\u001b[38;5;241;43m=\u001b[39;49m\u001b[43mb\u001b[49m\u001b[43m,\u001b[49m\u001b[43msmarks\u001b[49m\u001b[38;5;241;43m=\u001b[39;49m\u001b[43mc\u001b[49m\u001b[43m)\u001b[49m\n",
      "\u001b[1;31mTypeError\u001b[0m: student() missing 1 required positional argument: 'sbranch'"
     ]
    }
   ],
   "source": [
    "def student(s_id,sname,sbranch,smarks):\n",
    "    print(f\"student id: {s_id}\")\n",
    "    print(f\"student name:{sname}\")\n",
    "    print(f\"student marks:{smarks}\")\n",
    "    return\n",
    "\n",
    "a=input(\"enter student id: \")\n",
    "b=input(\"enter student name: \")\n",
    "c=input(\"enter student marks: \")\n",
    "student(s_id=a,sname=b,smarks=c)"
   ]
  },
  {
   "cell_type": "code",
   "execution_count": 15,
   "id": "870effd6-2755-4250-94d7-bef64fd9c493",
   "metadata": {},
   "outputs": [
    {
     "ename": "SyntaxError",
     "evalue": "non-default argument follows default argument (956309546.py, line 1)",
     "output_type": "error",
     "traceback": [
      "\u001b[1;36m  Cell \u001b[1;32mIn[15], line 1\u001b[1;36m\u001b[0m\n\u001b[1;33m    def student(s_id,sname,sbranch='Aiml',smarks):\u001b[0m\n\u001b[1;37m                                                ^\u001b[0m\n\u001b[1;31mSyntaxError\u001b[0m\u001b[1;31m:\u001b[0m non-default argument follows default argument\n"
     ]
    }
   ],
   "source": [
    "def student(s_id,sname,sbranch='Aiml',smarks):\n",
    "    print(f\"student id: {s_id}\")\n",
    "    print(f\"student name:{sname}\")\n",
    "    print(f\"student marks:{smarks}\")\n",
    "    return\n",
    "\n",
    "a=input(\"enter student id: \")\n",
    "b=input(\"enter student name: \")\n",
    "c=input(\"enter student marks: \")\n",
    "student(s_id=a,sname=b,smarks=c)"
   ]
  },
  {
   "cell_type": "code",
   "execution_count": 17,
   "id": "ca9c6ac8-e12e-4cbc-9ca2-9383183ba0b1",
   "metadata": {},
   "outputs": [
    {
     "name": "stdin",
     "output_type": "stream",
     "text": [
      "enter student id:  222\n",
      "enter student name:  fahamid\n",
      "enter student marks:  36\n"
     ]
    },
    {
     "name": "stdout",
     "output_type": "stream",
     "text": [
      "student id: 222\n",
      "student name:fahamid\n",
      "student marks:36\n",
      "student branch:Aiml\n"
     ]
    }
   ],
   "source": [
    "def student(sname,s_id,smarks,sbranch='Aiml'):\n",
    "    print(f\"student id: {s_id}\")\n",
    "    print(f\"student name:{sname}\")\n",
    "    print(f\"student marks:{smarks}\")\n",
    "    print(f\"student branch:{sbranch}\")\n",
    "    return\n",
    "\n",
    "a=input(\"enter student id: \")\n",
    "b=input(\"enter student name: \")\n",
    "c=input(\"enter student marks: \")\n",
    "student(s_id=a,sname=b,smarks=c)"
   ]
  },
  {
   "cell_type": "markdown",
   "id": "87e99111-3860-4e28-b220-a4ed108d669d",
   "metadata": {},
   "source": [
    "## Variable-Length Argument"
   ]
  },
  {
   "cell_type": "code",
   "execution_count": 31,
   "id": "9b5989f0-4ccd-48bd-8219-acafdb435177",
   "metadata": {},
   "outputs": [
    {
     "name": "stdout",
     "output_type": "stream",
     "text": [
      "umar <class 'str'>\n",
      "(20000, 30000, 40000) <class 'tuple'>\n"
     ]
    }
   ],
   "source": [
    "def employee(ename,*esalary):\n",
    "    print(ename,type(ename))\n",
    "    print(esalary,type(esalary))\n",
    "    return\n",
    "\n",
    "employee('umar',20000,30000,40000)"
   ]
  },
  {
   "cell_type": "code",
   "execution_count": 30,
   "id": "9f7f48e1-9af1-4b1a-9e48-33cfaf1b5d65",
   "metadata": {},
   "outputs": [
    {
     "name": "stdout",
     "output_type": "stream",
     "text": [
      "('umar', 20000, 3000, 4000) <class 'tuple'>\n"
     ]
    }
   ],
   "source": [
    "def employee(*esalary):\n",
    "    print(esalary,type(esalary))\n",
    "    return\n",
    "\n",
    "employee('umar',20000,3000,4000)"
   ]
  },
  {
   "cell_type": "code",
   "execution_count": 34,
   "id": "6d88cc08-e749-455b-abc0-849f65c59735",
   "metadata": {},
   "outputs": [
    {
     "name": "stdout",
     "output_type": "stream",
     "text": [
      "{'sname': 'ted', 'sroll': 22, 'sbranch': 'Aiml'} <class 'dict'>\n"
     ]
    }
   ],
   "source": [
    "def student(**y):\n",
    "    print(y,type(y))\n",
    "    return\n",
    "\n",
    "student(sname=\"ted\",sroll=22,sbranch=\"Aiml\")\n",
    "\n"
   ]
  },
  {
   "cell_type": "code",
   "execution_count": 35,
   "id": "11441732-9354-422d-b14a-a40fc7dca14c",
   "metadata": {},
   "outputs": [
    {
     "name": "stdout",
     "output_type": "stream",
     "text": [
      "22 <class 'str'>\n",
      "{'sname': 'ted', 'sroll': 22, 'sbranch': 'Aiml'} <class 'dict'>\n"
     ]
    }
   ],
   "source": [
    "def student(a,**y):\n",
    "    print(a,type(a))\n",
    "    print(y,type(y))\n",
    "    return\n",
    "\n",
    "student('22',sname=\"ted\",sroll=22,sbranch=\"Aiml\")\n",
    "\n"
   ]
  },
  {
   "cell_type": "code",
   "execution_count": 36,
   "id": "fed7d1cc-4db7-486a-81e5-2691c87eee58",
   "metadata": {},
   "outputs": [
    {
     "name": "stdout",
     "output_type": "stream",
     "text": [
      "22 <class 'str'>\n",
      "(12, 15, 24, 34, 52) <class 'tuple'>\n",
      "{'sname': 'ted', 'sroll': 22, 'sbranch': 'Aiml'} <class 'dict'>\n"
     ]
    }
   ],
   "source": [
    "def student(a,*b,**y):\n",
    "    print(a,type(a))\n",
    "    print(b,type(b))\n",
    "    print(y,type(y))\n",
    "    return\n",
    "\n",
    "student('22',12,15,24,34,52,sname=\"ted\",sroll=22,sbranch=\"Aiml\")\n",
    "\n"
   ]
  },
  {
   "cell_type": "code",
   "execution_count": 37,
   "id": "0ccd4785-d830-42d3-ac9f-b0d09a46f0ab",
   "metadata": {},
   "outputs": [
    {
     "ename": "SyntaxError",
     "evalue": "positional argument follows keyword argument (2618008257.py, line 7)",
     "output_type": "error",
     "traceback": [
      "\u001b[1;36m  Cell \u001b[1;32mIn[37], line 7\u001b[1;36m\u001b[0m\n\u001b[1;33m    student('22',12,15,24,34,52,sname=\"ted\",sroll=22,12,sbranch=\"Aiml\")\u001b[0m\n\u001b[1;37m                                                                      ^\u001b[0m\n\u001b[1;31mSyntaxError\u001b[0m\u001b[1;31m:\u001b[0m positional argument follows keyword argument\n"
     ]
    }
   ],
   "source": [
    "def student(a,*b,**y):\n",
    "    print(a,type(a))\n",
    "    print(b,type(b))\n",
    "    print(y,type(y))\n",
    "    return\n",
    "\n",
    "student('22',12,15,24,34,52,sname=\"ted\",sroll=22,12,sbranch=\"Aiml\")\n",
    "\n"
   ]
  },
  {
   "cell_type": "code",
   "execution_count": null,
   "id": "6fc5e5ec-3a0b-4509-aa25-3b9de30c21b3",
   "metadata": {},
   "outputs": [],
   "source": []
  }
 ],
 "metadata": {
  "kernelspec": {
   "display_name": "Python 3 (ipykernel)",
   "language": "python",
   "name": "python3"
  },
  "language_info": {
   "codemirror_mode": {
    "name": "ipython",
    "version": 3
   },
   "file_extension": ".py",
   "mimetype": "text/x-python",
   "name": "python",
   "nbconvert_exporter": "python",
   "pygments_lexer": "ipython3",
   "version": "3.9.5"
  }
 },
 "nbformat": 4,
 "nbformat_minor": 5
}
